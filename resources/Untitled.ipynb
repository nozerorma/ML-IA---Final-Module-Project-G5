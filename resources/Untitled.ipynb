{
 "cells": [
  {
   "cell_type": "markdown",
   "id": "qualified-holder",
   "metadata": {},
   "source": [
    "# FINAL MODULE PROJECT - GROUP 5\n",
    "\n",
    "## Predict genetic disorders from dataset"
   ]
  },
  {
   "cell_type": "code",
   "execution_count": null,
   "id": "deadly-questionnaire",
   "metadata": {},
   "outputs": [],
   "source": []
  }
 ],
 "metadata": {
  "kernelspec": {
   "display_name": "Python 3",
   "language": "python",
   "name": "python3"
  },
  "language_info": {
   "codemirror_mode": {
    "name": "ipython",
    "version": 3
   },
   "file_extension": ".py",
   "mimetype": "text/x-python",
   "name": "python",
   "nbconvert_exporter": "python",
   "pygments_lexer": "ipython3",
   "version": "3.8.6"
  }
 },
 "nbformat": 4,
 "nbformat_minor": 5
}

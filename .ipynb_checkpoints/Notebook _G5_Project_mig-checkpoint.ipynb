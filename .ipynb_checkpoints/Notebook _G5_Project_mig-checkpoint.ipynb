{
 "cells": [
  {
   "cell_type": "markdown",
   "id": "qualified-holder",
   "metadata": {},
   "source": [
    "# FINAL MODULE PROJECT - GROUP 5\n",
    "\n",
    "## Predict genetic disorders from dataset"
   ]
  },
  {
   "cell_type": "code",
   "execution_count": 1,
   "id": "deadly-questionnaire",
   "metadata": {},
   "outputs": [
    {
     "name": "stdout",
     "output_type": "stream",
     "text": [
      "['.gitignore', '.ipynb_checkpoints', 'resources', 'pathology_prediction.py', 'data', '.git', 'Notebook _G5_Project_mig.ipynb', 'explicacion_cols.pdf', 'train_genetic_disorders.csv', 'README.md', 'PROJECT.md', 'notebook-ml-1.ipynb', 'DATASETS.md', 'Notebook _G5_Project.ipynb']\n"
     ]
    }
   ],
   "source": [
    "import pandas as pd\n",
    "import numpy as np\n",
    "\n",
    "import os\n",
    "print(os.listdir(\"./\"))"
   ]
  },
  {
   "cell_type": "code",
   "execution_count": 2,
   "id": "musical-satellite",
   "metadata": {},
   "outputs": [
    {
     "name": "stdout",
     "output_type": "stream",
     "text": [
      "Dataset size:  (22083, 45)\n"
     ]
    }
   ],
   "source": [
    "data = pd.read_csv('./train_genetic_disorders.csv')\n",
    "data.head()\n",
    "print(\"Dataset size: \", data.shape)"
   ]
  },
  {
   "cell_type": "code",
   "execution_count": 9,
   "id": "dfcdcc66",
   "metadata": {},
   "outputs": [
    {
     "name": "stdout",
     "output_type": "stream",
     "text": [
      "Null rows_train: 1072\n"
     ]
    },
    {
     "data": {
      "text/plain": [
       "(21011, 45)"
      ]
     },
     "execution_count": 9,
     "metadata": {},
     "output_type": "execute_result"
    }
   ],
   "source": [
    "data[data.isnull().all(1)].shape\n",
    "print(\"Null rows_train:\",data[data.isnull().all(1)].shape[0])\n",
    "\n",
    "data_fea=data[data.isnull().all(1)!=True]\n",
    "data_fea.shape"
   ]
  },
  {
   "cell_type": "code",
   "execution_count": 3,
   "id": "79af3da9",
   "metadata": {},
   "outputs": [
    {
     "name": "stdout",
     "output_type": "stream",
     "text": [
      "Patient Id                                          [PID0x6418, PID0x25d5, PID0x4a82, PID0x4ac8, P...\n",
      "Patient Age                                         [2.0, 4.0, 6.0, 12.0, 11.0, 14.0, 3.0, 7.0, 1....\n",
      "Genes in mother's side                                                                 [Yes, No, nan]\n",
      "Inherited from father                                                                  [No, Yes, nan]\n",
      "Maternal gene                                                                          [Yes, No, nan]\n",
      "Paternal gene                                                                          [No, Yes, nan]\n",
      "Blood cell count (mcL)                              [4.760603086, 4.91066906, 4.893297428, 4.70528...\n",
      "Patient First Name                                  [Richard, Mike, Kimberly, Jeffery, Johanna, Ma...\n",
      "Family Name                                         [nan, Hoelscher, Stutzman, Bryant, Camacho, Sa...\n",
      "Father's name                                       [Larre, Brycen, Nashon, Aayaan, Suave, Colesto...\n",
      "Mother's age                                        [nan, 41.0, 21.0, 32.0, 40.0, 45.0, 44.0, 50.0...\n",
      "Father's age                                        [nan, 23.0, 22.0, 63.0, 44.0, 42.0, 56.0, 20.0...\n",
      "Institute Name                                      [Boston Specialty & Rehabilitation Hospital, S...\n",
      "Location of Institute                               [55 FRUIT ST\\nCENTRAL, MA 02114\\n(42.362474857...\n",
      "Status                                                                         [Alive, Deceased, nan]\n",
      "Respiratory Rate (breaths/min)                                       [Normal (30-60), Tachypnea, nan]\n",
      "Heart Rate (rates/min                                                      [Normal, Tachycardia, nan]\n",
      "Test 1                                                                                     [0.0, nan]\n",
      "Test 2                                                                                     [nan, 0.0]\n",
      "Test 3                                                                                     [nan, 0.0]\n",
      "Test 4                                                                                     [1.0, nan]\n",
      "Test 5                                                                                     [0.0, nan]\n",
      "Parental consent                                                                           [Yes, nan]\n",
      "Follow-up                                                                            [High, Low, nan]\n",
      "Gender                                                                 [nan, Male, Female, Ambiguous]\n",
      "Birth asphyxia                                               [nan, No, No record, Not available, Yes]\n",
      "Autopsy shows birth defect (if applicable)                       [Not applicable, None, No, Yes, nan]\n",
      "Place of birth                                                                 [Institute, nan, Home]\n",
      "Folic acid details (peri-conceptional)                                                 [No, Yes, nan]\n",
      "H/O serious maternal illness                                                           [nan, Yes, No]\n",
      "H/O radiation exposure (x-ray)                                      [No, Not applicable, Yes, -, nan]\n",
      "H/O substance abuse                                                 [No, Not applicable, nan, -, Yes]\n",
      "Assisted conception IVF/ART                                                            [No, Yes, nan]\n",
      "History of anomalies in previous pregnancies                                           [Yes, No, nan]\n",
      "No. of previous abortion                                               [nan, 4.0, 1.0, 0.0, 3.0, 2.0]\n",
      "Birth defects                                                               [nan, Multiple, Singular]\n",
      "White Blood cell count (thousand per microliter)    [9.857562482, 5.522559926, nan, 7.919320981, 4...\n",
      "Blood test result                                   [nan, normal, inconclusive, slightly abnormal,...\n",
      "Symptom 1                                                                             [1.0, 0.0, nan]\n",
      "Symptom 2                                                                             [1.0, nan, 0.0]\n",
      "Symptom 3                                                                             [1.0, 0.0, nan]\n",
      "Symptom 4                                                                             [1.0, 0.0, nan]\n",
      "Symptom 5                                                                             [1.0, 0.0, nan]\n",
      "Genetic Disorder                                    [Mitochondrial genetic inheritance disorders, ...\n",
      "Disorder Subclass                                   [Leber's hereditary optic neuropathy, Cystic f...\n",
      "dtype: object\n"
     ]
    }
   ],
   "source": [
    "print(data.apply(lambda col: col.unique()))"
   ]
  },
  {
   "cell_type": "code",
   "execution_count": 10,
   "id": "c4300266",
   "metadata": {},
   "outputs": [],
   "source": [
    "data.columns = data.columns.str.replace('\\'','')\n",
    "data.drop(columns=['Patient Id', 'Patient First Name', 'Family Name', 'Fathers name',\n",
    "        'Institute Name', 'Location of Institute', 'Parental consent',\n",
    "        'Place of birth', 'Test 1', 'Test 2', 'Test 3', 'Test 4', 'Test 5'], axis=1, inplace=True)"
   ]
  },
  {
   "cell_type": "code",
   "execution_count": 11,
   "id": "indirect-reputation",
   "metadata": {},
   "outputs": [
    {
     "name": "stdout",
     "output_type": "stream",
     "text": [
      "Dataset size:  (22083, 32)\n",
      "\n",
      " **************************************************************************************************** \n",
      "\n",
      "<class 'pandas.core.frame.DataFrame'>\n",
      "RangeIndex: 22083 entries, 0 to 22082\n",
      "Data columns (total 32 columns):\n",
      " #   Column                                            Non-Null Count  Dtype  \n",
      "---  ------                                            --------------  -----  \n",
      " 0   Patient Age                                       19643 non-null  float64\n",
      " 1   Genes in mothers side                             21011 non-null  object \n",
      " 2   Inherited from father                             20724 non-null  object \n",
      " 3   Maternal gene                                     18317 non-null  object \n",
      " 4   Paternal gene                                     21011 non-null  object \n",
      " 5   Blood cell count (mcL)                            21011 non-null  float64\n",
      " 6   Mothers age                                       15293 non-null  float64\n",
      " 7   Fathers age                                       15322 non-null  float64\n",
      " 8   Status                                            21011 non-null  object \n",
      " 9   Respiratory Rate (breaths/min)                    18952 non-null  object \n",
      " 10  Heart Rate (rates/min                             18986 non-null  object \n",
      " 11  Follow-up                                         18941 non-null  object \n",
      " 12  Gender                                            18948 non-null  object \n",
      " 13  Birth asphyxia                                    18953 non-null  object \n",
      " 14  Autopsy shows birth defect (if applicable)        20045 non-null  object \n",
      " 15  Folic acid details (peri-conceptional)            18998 non-null  object \n",
      " 16  H/O serious maternal illness                      18959 non-null  object \n",
      " 17  H/O radiation exposure (x-ray)                    18964 non-null  object \n",
      " 18  H/O substance abuse                               18921 non-null  object \n",
      " 19  Assisted conception IVF/ART                       19007 non-null  object \n",
      " 20  History of anomalies in previous pregnancies      18945 non-null  object \n",
      " 21  No. of previous abortion                          18957 non-null  float64\n",
      " 22  Birth defects                                     18959 non-null  object \n",
      " 23  White Blood cell count (thousand per microliter)  18965 non-null  float64\n",
      " 24  Blood test result                                 18977 non-null  object \n",
      " 25  Symptom 1                                         18955 non-null  float64\n",
      " 26  Symptom 2                                         18899 non-null  float64\n",
      " 27  Symptom 3                                         19008 non-null  float64\n",
      " 28  Symptom 4                                         18987 non-null  float64\n",
      " 29  Symptom 5                                         18956 non-null  float64\n",
      " 30  Genetic Disorder                                  18962 non-null  object \n",
      " 31  Disorder Subclass                                 18943 non-null  object \n",
      "dtypes: float64(11), object(21)\n",
      "memory usage: 5.4+ MB\n",
      "\n",
      " **************************************************************************************************** \n",
      "\n"
     ]
    },
    {
     "data": {
      "text/html": [
       "<div>\n",
       "<style scoped>\n",
       "    .dataframe tbody tr th:only-of-type {\n",
       "        vertical-align: middle;\n",
       "    }\n",
       "\n",
       "    .dataframe tbody tr th {\n",
       "        vertical-align: top;\n",
       "    }\n",
       "\n",
       "    .dataframe thead th {\n",
       "        text-align: right;\n",
       "    }\n",
       "</style>\n",
       "<table border=\"1\" class=\"dataframe\">\n",
       "  <thead>\n",
       "    <tr style=\"text-align: right;\">\n",
       "      <th></th>\n",
       "      <th>Patient Age</th>\n",
       "      <th>Genes in mothers side</th>\n",
       "      <th>Inherited from father</th>\n",
       "      <th>Maternal gene</th>\n",
       "      <th>Paternal gene</th>\n",
       "      <th>Blood cell count (mcL)</th>\n",
       "      <th>Mothers age</th>\n",
       "      <th>Fathers age</th>\n",
       "      <th>Status</th>\n",
       "      <th>Respiratory Rate (breaths/min)</th>\n",
       "      <th>...</th>\n",
       "      <th>Birth defects</th>\n",
       "      <th>White Blood cell count (thousand per microliter)</th>\n",
       "      <th>Blood test result</th>\n",
       "      <th>Symptom 1</th>\n",
       "      <th>Symptom 2</th>\n",
       "      <th>Symptom 3</th>\n",
       "      <th>Symptom 4</th>\n",
       "      <th>Symptom 5</th>\n",
       "      <th>Genetic Disorder</th>\n",
       "      <th>Disorder Subclass</th>\n",
       "    </tr>\n",
       "  </thead>\n",
       "  <tbody>\n",
       "    <tr>\n",
       "      <th>count</th>\n",
       "      <td>19643.000000</td>\n",
       "      <td>21011</td>\n",
       "      <td>20724</td>\n",
       "      <td>18317</td>\n",
       "      <td>21011</td>\n",
       "      <td>21011.000000</td>\n",
       "      <td>15293.000000</td>\n",
       "      <td>15322.000000</td>\n",
       "      <td>21011</td>\n",
       "      <td>18952</td>\n",
       "      <td>...</td>\n",
       "      <td>18959</td>\n",
       "      <td>18965.000000</td>\n",
       "      <td>18977</td>\n",
       "      <td>18955.000000</td>\n",
       "      <td>18899.000000</td>\n",
       "      <td>19008.000000</td>\n",
       "      <td>18987.000000</td>\n",
       "      <td>18956.000000</td>\n",
       "      <td>18962</td>\n",
       "      <td>18943</td>\n",
       "    </tr>\n",
       "    <tr>\n",
       "      <th>unique</th>\n",
       "      <td>NaN</td>\n",
       "      <td>2</td>\n",
       "      <td>2</td>\n",
       "      <td>2</td>\n",
       "      <td>2</td>\n",
       "      <td>NaN</td>\n",
       "      <td>NaN</td>\n",
       "      <td>NaN</td>\n",
       "      <td>2</td>\n",
       "      <td>2</td>\n",
       "      <td>...</td>\n",
       "      <td>2</td>\n",
       "      <td>NaN</td>\n",
       "      <td>4</td>\n",
       "      <td>NaN</td>\n",
       "      <td>NaN</td>\n",
       "      <td>NaN</td>\n",
       "      <td>NaN</td>\n",
       "      <td>NaN</td>\n",
       "      <td>3</td>\n",
       "      <td>9</td>\n",
       "    </tr>\n",
       "    <tr>\n",
       "      <th>top</th>\n",
       "      <td>NaN</td>\n",
       "      <td>Yes</td>\n",
       "      <td>No</td>\n",
       "      <td>Yes</td>\n",
       "      <td>No</td>\n",
       "      <td>NaN</td>\n",
       "      <td>NaN</td>\n",
       "      <td>NaN</td>\n",
       "      <td>Alive</td>\n",
       "      <td>Normal (30-60)</td>\n",
       "      <td>...</td>\n",
       "      <td>Singular</td>\n",
       "      <td>NaN</td>\n",
       "      <td>slightly abnormal</td>\n",
       "      <td>NaN</td>\n",
       "      <td>NaN</td>\n",
       "      <td>NaN</td>\n",
       "      <td>NaN</td>\n",
       "      <td>NaN</td>\n",
       "      <td>Mitochondrial genetic inheritance disorders</td>\n",
       "      <td>Leigh syndrome</td>\n",
       "    </tr>\n",
       "    <tr>\n",
       "      <th>freq</th>\n",
       "      <td>NaN</td>\n",
       "      <td>12509</td>\n",
       "      <td>12508</td>\n",
       "      <td>10125</td>\n",
       "      <td>11887</td>\n",
       "      <td>NaN</td>\n",
       "      <td>NaN</td>\n",
       "      <td>NaN</td>\n",
       "      <td>10572</td>\n",
       "      <td>9595</td>\n",
       "      <td>...</td>\n",
       "      <td>9509</td>\n",
       "      <td>NaN</td>\n",
       "      <td>4855</td>\n",
       "      <td>NaN</td>\n",
       "      <td>NaN</td>\n",
       "      <td>NaN</td>\n",
       "      <td>NaN</td>\n",
       "      <td>NaN</td>\n",
       "      <td>9686</td>\n",
       "      <td>4893</td>\n",
       "    </tr>\n",
       "    <tr>\n",
       "      <th>mean</th>\n",
       "      <td>6.974851</td>\n",
       "      <td>NaN</td>\n",
       "      <td>NaN</td>\n",
       "      <td>NaN</td>\n",
       "      <td>NaN</td>\n",
       "      <td>4.899004</td>\n",
       "      <td>34.522527</td>\n",
       "      <td>41.942436</td>\n",
       "      <td>NaN</td>\n",
       "      <td>NaN</td>\n",
       "      <td>...</td>\n",
       "      <td>NaN</td>\n",
       "      <td>7.484680</td>\n",
       "      <td>NaN</td>\n",
       "      <td>0.592034</td>\n",
       "      <td>0.552886</td>\n",
       "      <td>0.537405</td>\n",
       "      <td>0.497393</td>\n",
       "      <td>0.460804</td>\n",
       "      <td>NaN</td>\n",
       "      <td>NaN</td>\n",
       "    </tr>\n",
       "    <tr>\n",
       "      <th>std</th>\n",
       "      <td>4.322584</td>\n",
       "      <td>NaN</td>\n",
       "      <td>NaN</td>\n",
       "      <td>NaN</td>\n",
       "      <td>NaN</td>\n",
       "      <td>0.199829</td>\n",
       "      <td>9.847256</td>\n",
       "      <td>13.027701</td>\n",
       "      <td>NaN</td>\n",
       "      <td>NaN</td>\n",
       "      <td>...</td>\n",
       "      <td>NaN</td>\n",
       "      <td>2.653633</td>\n",
       "      <td>NaN</td>\n",
       "      <td>0.491470</td>\n",
       "      <td>0.497208</td>\n",
       "      <td>0.498612</td>\n",
       "      <td>0.500006</td>\n",
       "      <td>0.498474</td>\n",
       "      <td>NaN</td>\n",
       "      <td>NaN</td>\n",
       "    </tr>\n",
       "    <tr>\n",
       "      <th>min</th>\n",
       "      <td>0.000000</td>\n",
       "      <td>NaN</td>\n",
       "      <td>NaN</td>\n",
       "      <td>NaN</td>\n",
       "      <td>NaN</td>\n",
       "      <td>4.092727</td>\n",
       "      <td>18.000000</td>\n",
       "      <td>20.000000</td>\n",
       "      <td>NaN</td>\n",
       "      <td>NaN</td>\n",
       "      <td>...</td>\n",
       "      <td>NaN</td>\n",
       "      <td>3.000000</td>\n",
       "      <td>NaN</td>\n",
       "      <td>0.000000</td>\n",
       "      <td>0.000000</td>\n",
       "      <td>0.000000</td>\n",
       "      <td>0.000000</td>\n",
       "      <td>0.000000</td>\n",
       "      <td>NaN</td>\n",
       "      <td>NaN</td>\n",
       "    </tr>\n",
       "    <tr>\n",
       "      <th>25%</th>\n",
       "      <td>3.000000</td>\n",
       "      <td>NaN</td>\n",
       "      <td>NaN</td>\n",
       "      <td>NaN</td>\n",
       "      <td>NaN</td>\n",
       "      <td>4.763230</td>\n",
       "      <td>26.000000</td>\n",
       "      <td>31.000000</td>\n",
       "      <td>NaN</td>\n",
       "      <td>NaN</td>\n",
       "      <td>...</td>\n",
       "      <td>NaN</td>\n",
       "      <td>5.419026</td>\n",
       "      <td>NaN</td>\n",
       "      <td>0.000000</td>\n",
       "      <td>0.000000</td>\n",
       "      <td>0.000000</td>\n",
       "      <td>0.000000</td>\n",
       "      <td>0.000000</td>\n",
       "      <td>NaN</td>\n",
       "      <td>NaN</td>\n",
       "    </tr>\n",
       "    <tr>\n",
       "      <th>50%</th>\n",
       "      <td>7.000000</td>\n",
       "      <td>NaN</td>\n",
       "      <td>NaN</td>\n",
       "      <td>NaN</td>\n",
       "      <td>NaN</td>\n",
       "      <td>4.899548</td>\n",
       "      <td>35.000000</td>\n",
       "      <td>42.000000</td>\n",
       "      <td>NaN</td>\n",
       "      <td>NaN</td>\n",
       "      <td>...</td>\n",
       "      <td>NaN</td>\n",
       "      <td>7.473071</td>\n",
       "      <td>NaN</td>\n",
       "      <td>1.000000</td>\n",
       "      <td>1.000000</td>\n",
       "      <td>1.000000</td>\n",
       "      <td>0.000000</td>\n",
       "      <td>0.000000</td>\n",
       "      <td>NaN</td>\n",
       "      <td>NaN</td>\n",
       "    </tr>\n",
       "    <tr>\n",
       "      <th>75%</th>\n",
       "      <td>11.000000</td>\n",
       "      <td>NaN</td>\n",
       "      <td>NaN</td>\n",
       "      <td>NaN</td>\n",
       "      <td>NaN</td>\n",
       "      <td>5.033977</td>\n",
       "      <td>43.000000</td>\n",
       "      <td>53.000000</td>\n",
       "      <td>NaN</td>\n",
       "      <td>NaN</td>\n",
       "      <td>...</td>\n",
       "      <td>NaN</td>\n",
       "      <td>9.528684</td>\n",
       "      <td>NaN</td>\n",
       "      <td>1.000000</td>\n",
       "      <td>1.000000</td>\n",
       "      <td>1.000000</td>\n",
       "      <td>1.000000</td>\n",
       "      <td>1.000000</td>\n",
       "      <td>NaN</td>\n",
       "      <td>NaN</td>\n",
       "    </tr>\n",
       "    <tr>\n",
       "      <th>max</th>\n",
       "      <td>14.000000</td>\n",
       "      <td>NaN</td>\n",
       "      <td>NaN</td>\n",
       "      <td>NaN</td>\n",
       "      <td>NaN</td>\n",
       "      <td>5.609829</td>\n",
       "      <td>51.000000</td>\n",
       "      <td>64.000000</td>\n",
       "      <td>NaN</td>\n",
       "      <td>NaN</td>\n",
       "      <td>...</td>\n",
       "      <td>NaN</td>\n",
       "      <td>12.000000</td>\n",
       "      <td>NaN</td>\n",
       "      <td>1.000000</td>\n",
       "      <td>1.000000</td>\n",
       "      <td>1.000000</td>\n",
       "      <td>1.000000</td>\n",
       "      <td>1.000000</td>\n",
       "      <td>NaN</td>\n",
       "      <td>NaN</td>\n",
       "    </tr>\n",
       "  </tbody>\n",
       "</table>\n",
       "<p>11 rows × 32 columns</p>\n",
       "</div>"
      ],
      "text/plain": [
       "         Patient Age Genes in mothers side Inherited from father  \\\n",
       "count   19643.000000                 21011                 20724   \n",
       "unique           NaN                     2                     2   \n",
       "top              NaN                   Yes                    No   \n",
       "freq             NaN                 12509                 12508   \n",
       "mean        6.974851                   NaN                   NaN   \n",
       "std         4.322584                   NaN                   NaN   \n",
       "min         0.000000                   NaN                   NaN   \n",
       "25%         3.000000                   NaN                   NaN   \n",
       "50%         7.000000                   NaN                   NaN   \n",
       "75%        11.000000                   NaN                   NaN   \n",
       "max        14.000000                   NaN                   NaN   \n",
       "\n",
       "       Maternal gene Paternal gene  Blood cell count (mcL)   Mothers age  \\\n",
       "count          18317         21011            21011.000000  15293.000000   \n",
       "unique             2             2                     NaN           NaN   \n",
       "top              Yes            No                     NaN           NaN   \n",
       "freq           10125         11887                     NaN           NaN   \n",
       "mean             NaN           NaN                4.899004     34.522527   \n",
       "std              NaN           NaN                0.199829      9.847256   \n",
       "min              NaN           NaN                4.092727     18.000000   \n",
       "25%              NaN           NaN                4.763230     26.000000   \n",
       "50%              NaN           NaN                4.899548     35.000000   \n",
       "75%              NaN           NaN                5.033977     43.000000   \n",
       "max              NaN           NaN                5.609829     51.000000   \n",
       "\n",
       "         Fathers age Status Respiratory Rate (breaths/min)  ... Birth defects  \\\n",
       "count   15322.000000  21011                          18952  ...         18959   \n",
       "unique           NaN      2                              2  ...             2   \n",
       "top              NaN  Alive                 Normal (30-60)  ...      Singular   \n",
       "freq             NaN  10572                           9595  ...          9509   \n",
       "mean       41.942436    NaN                            NaN  ...           NaN   \n",
       "std        13.027701    NaN                            NaN  ...           NaN   \n",
       "min        20.000000    NaN                            NaN  ...           NaN   \n",
       "25%        31.000000    NaN                            NaN  ...           NaN   \n",
       "50%        42.000000    NaN                            NaN  ...           NaN   \n",
       "75%        53.000000    NaN                            NaN  ...           NaN   \n",
       "max        64.000000    NaN                            NaN  ...           NaN   \n",
       "\n",
       "       White Blood cell count (thousand per microliter)  Blood test result  \\\n",
       "count                                      18965.000000              18977   \n",
       "unique                                              NaN                  4   \n",
       "top                                                 NaN  slightly abnormal   \n",
       "freq                                                NaN               4855   \n",
       "mean                                           7.484680                NaN   \n",
       "std                                            2.653633                NaN   \n",
       "min                                            3.000000                NaN   \n",
       "25%                                            5.419026                NaN   \n",
       "50%                                            7.473071                NaN   \n",
       "75%                                            9.528684                NaN   \n",
       "max                                           12.000000                NaN   \n",
       "\n",
       "           Symptom 1     Symptom 2     Symptom 3     Symptom 4     Symptom 5  \\\n",
       "count   18955.000000  18899.000000  19008.000000  18987.000000  18956.000000   \n",
       "unique           NaN           NaN           NaN           NaN           NaN   \n",
       "top              NaN           NaN           NaN           NaN           NaN   \n",
       "freq             NaN           NaN           NaN           NaN           NaN   \n",
       "mean        0.592034      0.552886      0.537405      0.497393      0.460804   \n",
       "std         0.491470      0.497208      0.498612      0.500006      0.498474   \n",
       "min         0.000000      0.000000      0.000000      0.000000      0.000000   \n",
       "25%         0.000000      0.000000      0.000000      0.000000      0.000000   \n",
       "50%         1.000000      1.000000      1.000000      0.000000      0.000000   \n",
       "75%         1.000000      1.000000      1.000000      1.000000      1.000000   \n",
       "max         1.000000      1.000000      1.000000      1.000000      1.000000   \n",
       "\n",
       "                                   Genetic Disorder Disorder Subclass  \n",
       "count                                         18962             18943  \n",
       "unique                                            3                 9  \n",
       "top     Mitochondrial genetic inheritance disorders    Leigh syndrome  \n",
       "freq                                           9686              4893  \n",
       "mean                                            NaN               NaN  \n",
       "std                                             NaN               NaN  \n",
       "min                                             NaN               NaN  \n",
       "25%                                             NaN               NaN  \n",
       "50%                                             NaN               NaN  \n",
       "75%                                             NaN               NaN  \n",
       "max                                             NaN               NaN  \n",
       "\n",
       "[11 rows x 32 columns]"
      ]
     },
     "execution_count": 11,
     "metadata": {},
     "output_type": "execute_result"
    }
   ],
   "source": [
    "print(\"Dataset size: \", data.shape)\n",
    "print('\\n', '**'* 50, '\\n')\n",
    "data.info()\n",
    "print('\\n', '**'* 50, '\\n')\n",
    "data.describe(include = 'all')"
   ]
  },
  {
   "cell_type": "code",
   "execution_count": 12,
   "id": "adult-delaware",
   "metadata": {},
   "outputs": [
    {
     "data": {
      "text/plain": [
       "Patient Age                                         2440\n",
       "Genes in mothers side                               1072\n",
       "Inherited from father                               1359\n",
       "Maternal gene                                       3766\n",
       "Paternal gene                                       1072\n",
       "Blood cell count (mcL)                              1072\n",
       "Mothers age                                         6790\n",
       "Fathers age                                         6761\n",
       "Status                                              1072\n",
       "Respiratory Rate (breaths/min)                      3131\n",
       "Heart Rate (rates/min                               3097\n",
       "Follow-up                                           3142\n",
       "Gender                                              3135\n",
       "Birth asphyxia                                      3130\n",
       "Autopsy shows birth defect (if applicable)          2038\n",
       "Folic acid details (peri-conceptional)              3085\n",
       "H/O serious maternal illness                        3124\n",
       "H/O radiation exposure (x-ray)                      3119\n",
       "H/O substance abuse                                 3162\n",
       "Assisted conception IVF/ART                         3076\n",
       "History of anomalies in previous pregnancies        3138\n",
       "No. of previous abortion                            3126\n",
       "Birth defects                                       3124\n",
       "White Blood cell count (thousand per microliter)    3118\n",
       "Blood test result                                   3106\n",
       "Symptom 1                                           3128\n",
       "Symptom 2                                           3184\n",
       "Symptom 3                                           3075\n",
       "Symptom 4                                           3096\n",
       "Symptom 5                                           3127\n",
       "Genetic Disorder                                    3121\n",
       "Disorder Subclass                                   3140\n",
       "dtype: int64"
      ]
     },
     "execution_count": 12,
     "metadata": {},
     "output_type": "execute_result"
    }
   ],
   "source": [
    "data.isnull().sum()"
   ]
  },
  {
   "cell_type": "code",
   "execution_count": null,
   "id": "generic-milton",
   "metadata": {},
   "outputs": [],
   "source": [
    "data.replace('', np.nan, inplace=True)\n",
    "data.dropna(inplace=True)\n",
    "print(\"Dataset size: \", data.shape)\n",
    "data.isnull().sum()"
   ]
  },
  {
   "cell_type": "code",
   "execution_count": null,
   "id": "polish-september",
   "metadata": {},
   "outputs": [],
   "source": [
    "print('Número de muestras por clase:')\n",
    "print(data[\"Genetic Disorder\"].value_counts())"
   ]
  },
  {
   "cell_type": "code",
   "execution_count": null,
   "id": "actual-equity",
   "metadata": {},
   "outputs": [],
   "source": [
    "import seaborn as sns # buscar manera \n",
    "sns.countplot(data=data, x='Genetic Disorder')"
   ]
  },
  {
   "cell_type": "code",
   "execution_count": null,
   "id": "conceptual-treatment",
   "metadata": {},
   "outputs": [],
   "source": [
    "#for x in data.columns[2:len(data.columns)]:# que es esto, diferentes formas de valoración\n",
    " #   sns.displot(data=data, x=x, col='Genetic Disorder', kde=True, bins=10) #kde linea de valoracion"
   ]
  },
  {
   "cell_type": "code",
   "execution_count": null,
   "id": "complete-forum",
   "metadata": {},
   "outputs": [],
   "source": [
    "# see what we've got\n",
    "print(data.columns)"
   ]
  },
  {
   "cell_type": "code",
   "execution_count": null,
   "id": "3f145911",
   "metadata": {},
   "outputs": [],
   "source": [
    "print(data.apply(lambda col: col.unique()))"
   ]
  },
  {
   "cell_type": "code",
   "execution_count": null,
   "id": "ca8613a4",
   "metadata": {},
   "outputs": [],
   "source": [
    "# now lets see a lil header and change Yes and No values to binary\n",
    "data.head()\n",
    "data.columns = data.columns.str.replace('\\'','')\n",
    "data = data.replace(['No', 'Yes'], [0, 1])\n",
    "data.head()"
   ]
  },
  {
   "cell_type": "code",
   "execution_count": null,
   "id": "70cb1ef8",
   "metadata": {},
   "outputs": [],
   "source": [
    "# now lets check what we have left\n",
    "# and lets change columns status, follow-up and birth defects.\n",
    "def replaceduplets(column, value1, value2, to1, to2):\n",
    "        data[column] = data[column].replace([value1, value2], [to1, to2])\n",
    "\n",
    "replaceduplets('Status', 'Alive', 'Deceased', 1, 0)\n",
    "replaceduplets('Heart Rate (rates/min', 'Tachycardia', 'Normal', 1, 0)\n",
    "replaceduplets('Follow-up', 'Low', 'High', 0, 1)\n",
    "replaceduplets('Birth defects', 'Multiple', 'Singular', 1, 0)\n",
    "replaceduplets('Respiratory Rate (breaths/min)', 'Tachypnea', 'Normal (30-60)', 1, 0)\n",
    "\n",
    "print(data.apply(lambda col: col.unique()))"
   ]
  },
  {
   "cell_type": "code",
   "execution_count": null,
   "id": "6dca504c",
   "metadata": {},
   "outputs": [],
   "source": [
    "# And now same stuff for triplets\n",
    "def replacetriplets(column, value1, value2, value3, to1, to2, to3):\n",
    "        data[column] = data[column].replace([value1, value2, value3], [to1, to2, to3])\n",
    "        \n",
    "replacetriplets('Gender', 'Female', 'Ambiguous', 'Male', 0, 1, 2)\n",
    "replacetriplets('Genetic Disorder', 'Mitochondrial genetic inheritance disorders',\n",
    "               'Single-gene inheritance diseases', 'Multifactorial genetic inheritance disorders', 0, 1, 2)\n",
    "print(data.apply(lambda col: col.unique()))"
   ]
  },
  {
   "cell_type": "code",
   "execution_count": null,
   "id": "3071f3a2",
   "metadata": {},
   "outputs": [],
   "source": [
    "# Last but not least cuadruplets!\n",
    "def replacecuadruplets(column, value1, value2, value3, value4, to1, to2, to3, to4):\n",
    "        data[column] = data[column].replace([value1, value2, value3, value4],\n",
    "                        [to1, to2, to3, to4])\n",
    "\n",
    "replacecuadruplets('Blood test result', 'normal', 'slightly abnormal', 'abnormal',\n",
    "                   'inconclusive', 0, 1, 2, 3)\n",
    "print(data.apply(lambda col: col.unique()))"
   ]
  },
  {
   "cell_type": "code",
   "execution_count": null,
   "id": "a38d2af1",
   "metadata": {},
   "outputs": [],
   "source": [
    "# Now converting every disorder subclass to numeric\n",
    "data['Disorder Subclass'] = data['Disorder Subclass'].astype('category')\n",
    "data['Disorder Subclass'] = data['Disorder Subclass'].cat.codes"
   ]
  },
  {
   "cell_type": "code",
   "execution_count": null,
   "id": "fe3c50eb",
   "metadata": {
    "scrolled": true
   },
   "outputs": [],
   "source": [
    "for x in data.columns[2:len(data.columns)]:\n",
    "    sns.displot(data=data, x=x, col='Genetic Disorder', kde=True, bins=10)"
   ]
  },
  {
   "cell_type": "markdown",
   "id": "b9fc7043",
   "metadata": {},
   "source": [
    "# División en train y test¶\n",
    "En primer lugar, vamos a separar el conjunto de datos original que se encuentra en data en: X, un dataframe con las variables predictoras, e Y, un dataframe con la variable objetivo (la columna diagnosis). A la hora de crear X, también eliminamos la variable id puesto que no debe utilizarse para clasificación."
   ]
  },
  {
   "cell_type": "code",
   "execution_count": null,
   "id": "368efa8e",
   "metadata": {},
   "outputs": [],
   "source": [
    "print('Tamaño del dataset (muestras x variables):', data.shape) # hacer idea de como va la vaína pt 2\n",
    "\n",
    "X = data.iloc[:,:-2]\n",
    "Y = pd.DataFrame(data['Genetic Disorder'])\n",
    "Y2 = pd.DataFrame(data['Disorder Subclass'])\n",
    "\n",
    "X.head()\n",
    "Y.head()\n",
    "Y2.head()"
   ]
  },
  {
   "cell_type": "code",
   "execution_count": null,
   "id": "b6e423c9",
   "metadata": {},
   "outputs": [],
   "source": [
    "# for trainset 1\n",
    "from sklearn.model_selection import train_test_split # mirar\n",
    "\n",
    "random_state = 1998 # fijo semilla para reproducibilidad\n",
    "\n",
    "X_train, X_test, Y_train, Y_test = train_test_split(\n",
    "    X, Y,\n",
    "    test_size=0.3, # 30% para test\n",
    "    stratify=Y, # estratificar para respetar distribución e integridad\n",
    "    random_state=random_state # dar semilla\n",
    ")"
   ]
  },
  {
   "cell_type": "code",
   "execution_count": null,
   "id": "bba0440e",
   "metadata": {},
   "outputs": [],
   "source": [
    "# for trainset 2 (predicción de subtipos)\n",
    "from sklearn.model_selection import train_test_split # mirar\n",
    "\n",
    "random_state = 1998 # fijo semilla para reproducibilidad\n",
    "\n",
    "X_train, X_test, Y2_train, Y2_test = train_test_split(\n",
    "    X, Y2,\n",
    "    test_size=0.3, # 30% para test\n",
    "    stratify=Y2, # estratificar para respetar distribución e integridad\n",
    "    random_state=random_state # dar semilla\n",
    ")"
   ]
  },
  {
   "cell_type": "code",
   "execution_count": null,
   "id": "2c06116b",
   "metadata": {},
   "outputs": [],
   "source": [
    "X_train.info()\n",
    "X_train.describe(include = 'all')\n",
    "X_test.info()\n",
    "\n",
    "print('Número de muestras por clase:')\n",
    "print(Y_train['Genetic Disorder'].value_counts())\n",
    "\n",
    "print('Número de muestras por clase:')\n",
    "print(Y_test['Genetic Disorder'].value_counts())"
   ]
  },
  {
   "cell_type": "code",
   "execution_count": null,
   "id": "e75c3fc7",
   "metadata": {
    "scrolled": true
   },
   "outputs": [],
   "source": [
    "data.describe()"
   ]
  },
  {
   "cell_type": "code",
   "execution_count": null,
   "id": "9f77651d",
   "metadata": {},
   "outputs": [],
   "source": [
    "# Sin escalado KNN\n",
    "from sklearn.neighbors import KNeighborsClassifier\n",
    "from sklearn import metrics # metricas de uso\n",
    "\n",
    "knn = KNeighborsClassifier()\n",
    "# Use  Y_train.values.ravel() to avoid a warning\n",
    "knn.fit(X_train, Y_train.values.ravel())"
   ]
  },
  {
   "cell_type": "code",
   "execution_count": null,
   "id": "f8028dac",
   "metadata": {},
   "outputs": [],
   "source": [
    "knn_prediction = knn.predict(X_test)\n",
    "print('kNN predictions on the test set:', knn_prediction)\n",
    "print('kNN accuracy = {:0.3f}'.format(metrics.accuracy_score(Y_test, knn_prediction))) # predicciones v muestras\n",
    "# {} da params para format"
   ]
  },
  {
   "cell_type": "code",
   "execution_count": null,
   "id": "73d6ec75",
   "metadata": {},
   "outputs": [],
   "source": [
    "knn = KNeighborsClassifier(n_neighbors = 5)\n",
    "\n",
    "knn.fit(X_train, Y_train.values.ravel())\n",
    "\n",
    "knn_prediction = knn.predict(X_test)\n",
    "print('kNN accuracy = {:0.3f}'.format(metrics.accuracy_score(Y_test, knn_prediction)))\n",
    "print('kNN predictions on the test set:', knn_prediction)"
   ]
  },
  {
   "cell_type": "code",
   "execution_count": null,
   "id": "c85458fc",
   "metadata": {},
   "outputs": [],
   "source": [
    "knn = KNeighborsClassifier(n_neighbors = 5, weights = 'distance')\n",
    "\n",
    "knn.fit(X_train, Y_train.values.ravel())\n",
    "\n",
    "knn_prediction = knn.predict(X_test)\n",
    "print('kNN accuracy = {:0.3f}'.format(metrics.accuracy_score(Y_test, knn_prediction)))"
   ]
  },
  {
   "cell_type": "code",
   "execution_count": null,
   "id": "de2d2682",
   "metadata": {},
   "outputs": [],
   "source": [
    "# Con escalado KNN\n",
    "from sklearn.preprocessing import StandardScaler\n",
    "scaler = StandardScaler()\n",
    "\n",
    "X_train_scaled = pd.DataFrame(scaler.fit_transform(X_train))\n",
    "X_test_scaled = scaler.transform(X_test)\n",
    "\n",
    "display(X_train_scaled.describe())"
   ]
  },
  {
   "cell_type": "code",
   "execution_count": null,
   "id": "14868c35",
   "metadata": {},
   "outputs": [],
   "source": [
    "# knn_scaled = KNeighborsClassifier(n_neighbors = 500)\n",
    "knn_scaled.fit(X_train_scaled, Y_train.values.ravel())\n",
    "\n",
    "knn_prediction_scaled = knn_scaled.predict(X_test_scaled)\n",
    "print('kNN accuracy (with scaled data) = {:0.3f}'.format(metrics.accuracy_score(Y_test, knn_prediction_scaled)))"
   ]
  },
  {
   "cell_type": "markdown",
   "id": "46251fbd",
   "metadata": {},
   "source": [
    "# Decision Tree\n",
    "Ahora vamos a entrenar y evaluar un árbol de decisión, disponible en sklearn en DecisionTreeClassifier (https://scikit-learn.org/0.24/modules/generated/sklearn.tree.DecisionTreeClassifier.html). Utilizamos random_state para obtener siempre el mismo resultado. "
   ]
  },
  {
   "cell_type": "code",
   "execution_count": null,
   "id": "47a1bc6c",
   "metadata": {},
   "outputs": [],
   "source": [
    "from sklearn.tree import DecisionTreeClassifier\n",
    "\n",
    "dt = DecisionTreeClassifier(random_state = random_state)\n",
    "dt.fit(X_train, Y_train)\n",
    "\n",
    "dt_prediction = dt.predict(X_test)\n",
    "print('Decision Tree accuracy = {:0.3f}'.format(metrics.accuracy_score(Y_test, dt_prediction)))"
   ]
  },
  {
   "cell_type": "code",
   "execution_count": null,
   "id": "ad87754b",
   "metadata": {},
   "outputs": [],
   "source": [
    "from sklearn import tree\n",
    "\n",
    "text_representation = tree.export_text(dt, feature_names = data.columns.drop(['Genetic Disorder', 'Disorder Subclass']).tolist())\n",
    "print(text_representation)"
   ]
  },
  {
   "cell_type": "code",
   "execution_count": null,
   "id": "6726626d",
   "metadata": {},
   "outputs": [],
   "source": [
    "import matplotlib.pyplot as plt # el gini (homgeneidad, el primero es el de los datos q entran)\n",
    "\n",
    "fig = plt.figure(figsize=(25,20))\n",
    "feature_names = data.columns.drop(['Genetic Disorder', 'Disorder Subclass']).tolist()\n",
    "_ = tree.plot_tree(dt, feature_names = feature_names, class_names = [\"A\", \"B\"], filled = True)"
   ]
  },
  {
   "cell_type": "code",
   "execution_count": null,
   "id": "261f272a",
   "metadata": {},
   "outputs": [],
   "source": [
    "data.boxplot(column=['Maternal gene'], by=\"Genetic Disorder\", figsize = [6, 6])"
   ]
  },
  {
   "cell_type": "code",
   "execution_count": null,
   "id": "2c1c05ea",
   "metadata": {},
   "outputs": [],
   "source": [
    "dt_prediction_train = dt.predict(X_train)\n",
    "print('Decision Tree accuracy (train) = ', metrics.accuracy_score(Y_train, dt_prediction_train))"
   ]
  },
  {
   "cell_type": "code",
   "execution_count": null,
   "id": "1a586f95",
   "metadata": {},
   "outputs": [],
   "source": [
    "dt = DecisionTreeClassifier(random_state = random_state, min_samples_leaf = 20)\n",
    "dt.fit(X_train, Y_train)\n",
    "\n",
    "dt_prediction = dt.predict(X_test)\n",
    "print('Decision Tree accuracy = {:0.3f}'.format(metrics.accuracy_score(Y_test, dt_prediction)))\n",
    "\n",
    "dt_prediction_train = dt.predict(X_train)\n",
    "print('Decision Tree accuracy = {:0.3f}'.format(metrics.accuracy_score(Y_train, dt_prediction_train)))"
   ]
  },
  {
   "cell_type": "code",
   "execution_count": null,
   "id": "6e3aeca0",
   "metadata": {},
   "outputs": [],
   "source": [
    "text_representation = tree.export_text(dt, feature_names = data.columns.drop(['Genetic Disorder', 'Disorder Subclass']).tolist())\n",
    "print(text_representation)\n",
    "\n",
    "fig = plt.figure(figsize=(25,20))\n",
    "feature_names = data.columns.drop(['Genetic Disorder', 'Disorder Subclass']).tolist()\n",
    "_ = tree.plot_tree(dt, feature_names = feature_names, class_names = [\"B\", \"M\"], filled = True)"
   ]
  },
  {
   "cell_type": "code",
   "execution_count": null,
   "id": "f512abb1",
   "metadata": {},
   "outputs": [],
   "source": [
    "dt_prediction_probabilities = dt.predict_proba(X_test)\n",
    "\n",
    "# print(dt_prediction_probabilities)\n",
    "\n",
    "print('Classes in the decision tree model: ', dt.classes_)\n",
    "print('Predictions for class M:\\n', dt_prediction_probabilities[:,1])\n",
    "print('Predictions for class B:\\n', dt_prediction_probabilities[:,1])"
   ]
  },
  {
   "cell_type": "markdown",
   "id": "3fd3f042",
   "metadata": {},
   "source": [
    "# La matriz de confusión\n",
    "Comenzamos construyendo la matriz de confusión tal y como se muestra en la imagen anterior. Para hacer el cálculo, consideramos que los positivos son las muestras de la clase que nos interesa (Malignant) y los negativos las muestras de la otra clase (Benignant).\n",
    "\n",
    "Para calcular las celdas de la matriz (TP, TN, FP y FN) tenemos que comparar la clasificación real (disponible en Y_test) con las predicciones del clasificador (por ejemplo dt_prediction en el ejemplo anterior). Repetimos aquí el ejemplo para mostrar los dos arrays y calcular la tasa de aciertos (fíjate el el efecto del parámetro normalize):"
   ]
  },
  {
   "cell_type": "code",
   "execution_count": null,
   "id": "2d4eaafe",
   "metadata": {},
   "outputs": [],
   "source": [
    "dt = DecisionTreeClassifier(random_state = random_state, min_samples_leaf = 20)\n",
    "dt.fit(X_train, Y_train)\n",
    "dt_prediction_train = dt.predict(X_test)\n",
    "\n",
    "print('Clasificación real:\\n', np.asarray(Y_test['Genetic Disorder']))\n",
    "print('\\nPredicciones:\\n', dt_prediction_train)\n",
    "print('\\nDecision Tree accuracy = {} ({:.03f})'.format(\n",
    "    metrics.accuracy_score(Y_test, dt_prediction_train, normalize = False),\n",
    "    metrics.accuracy_score(Y_test, dt_prediction_train, normalize = True)\n",
    "))"
   ]
  }
 ],
 "metadata": {
  "kernelspec": {
   "display_name": "Python 3 (ipykernel)",
   "language": "python",
   "name": "python3"
  },
  "language_info": {
   "codemirror_mode": {
    "name": "ipython",
    "version": 3
   },
   "file_extension": ".py",
   "mimetype": "text/x-python",
   "name": "python",
   "nbconvert_exporter": "python",
   "pygments_lexer": "ipython3",
   "version": "3.10.6"
  }
 },
 "nbformat": 4,
 "nbformat_minor": 5
}

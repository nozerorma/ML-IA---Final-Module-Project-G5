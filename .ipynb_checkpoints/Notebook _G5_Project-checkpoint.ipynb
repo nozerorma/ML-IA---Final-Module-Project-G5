{
 "cells": [
  {
   "cell_type": "markdown",
   "id": "qualified-holder",
   "metadata": {},
   "source": [
    "# FINAL MODULE PROJECT - GROUP 5\n",
    "\n",
    "## Predict genetic disorders from dataset"
   ]
  },
  {
   "cell_type": "code",
   "execution_count": 1,
   "id": "deadly-questionnaire",
   "metadata": {},
   "outputs": [
    {
     "name": "stdout",
     "output_type": "stream",
     "text": [
      "['master-bioinformatica-aplicada-2022-2023']\n"
     ]
    }
   ],
   "source": [
    "import pandas as pd\n",
    "import numpy as np\n",
    "\n",
    "import os\n",
    "print(os.listdir(\"../\"))"
   ]
  }
 ],
 "metadata": {
  "kernelspec": {
   "display_name": "Python 3",
   "language": "python",
   "name": "python3"
  },
  "language_info": {
   "codemirror_mode": {
    "name": "ipython",
    "version": 3
   },
   "file_extension": ".py",
   "mimetype": "text/x-python",
   "name": "python",
   "nbconvert_exporter": "python",
   "pygments_lexer": "ipython3",
   "version": "3.8.6"
  }
 },
 "nbformat": 4,
 "nbformat_minor": 5
}

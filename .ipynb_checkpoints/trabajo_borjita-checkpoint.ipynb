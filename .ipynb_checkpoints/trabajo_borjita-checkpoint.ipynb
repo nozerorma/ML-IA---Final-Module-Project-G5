{
 "cells": [
  {
   "cell_type": "markdown",
   "id": "qualified-holder",
   "metadata": {},
   "source": [
    "# FINAL MODULE PROJECT - GROUP 5\n",
    "\n",
    "## Predict genetic disorders from dataset"
   ]
  },
  {
   "cell_type": "code",
   "execution_count": 1,
   "id": "deadly-questionnaire",
   "metadata": {},
   "outputs": [
    {
     "name": "stdout",
     "output_type": "stream",
     "text": [
      "['trabajo_borjita.ipynb', '.gitignore', '.ipynb_checkpoints', 'resources', 'pathology_prediction.py', 'data', '.git', 'Notebook sin Multienfermedad.ipynb', 'explicacion_cols.pdf', 'train_genetic_disorders.csv', 'README.md', 'PROJECT.md', 'DATASETS.md']\n"
     ]
    }
   ],
   "source": [
    "import pandas as pd\n",
    "import numpy as np\n",
    "\n",
    "import os\n",
    "print(os.listdir(\"./\"))"
   ]
  },
  {
   "cell_type": "code",
   "execution_count": 6,
   "id": "musical-satellite",
   "metadata": {},
   "outputs": [
    {
     "name": "stdout",
     "output_type": "stream",
     "text": [
      "Dataset size:  (22083, 45)\n"
     ]
    }
   ],
   "source": [
    "data = pd.read_csv('./train_genetic_disorders.csv')\n",
    "data.head()\n",
    "print(\"Dataset size: \", data.shape)"
   ]
  },
  {
   "cell_type": "code",
   "execution_count": 9,
   "id": "7ad923fe",
   "metadata": {},
   "outputs": [
    {
     "name": "stdout",
     "output_type": "stream",
     "text": [
      "Null rows_train: 1072\n"
     ]
    },
    {
     "data": {
      "text/plain": [
       "(21011, 45)"
      ]
     },
     "execution_count": 9,
     "metadata": {},
     "output_type": "execute_result"
    }
   ],
   "source": [
    "data[data.isnull().all(1)].shape\n",
    "print(\"Null rows_train:\",data[data.isnull().all(1)].shape[0])\n",
    "\n",
    "data=data[data.isnull().all(1)!=True]\n",
    "data.shape"
   ]
  },
  {
   "cell_type": "code",
   "execution_count": 4,
   "id": "9fad4064",
   "metadata": {},
   "outputs": [
    {
     "name": "stdout",
     "output_type": "stream",
     "text": [
      "Patient Id                                          [PID0x6418, PID0x25d5, PID0x4a82, PID0x4ac8, P...\n",
      "Patient Age                                         [2.0, 4.0, 6.0, 12.0, 11.0, 14.0, 3.0, 7.0, 1....\n",
      "Genes in mother's side                                                                 [Yes, No, nan]\n",
      "Inherited from father                                                                  [No, Yes, nan]\n",
      "Maternal gene                                                                          [Yes, No, nan]\n",
      "Paternal gene                                                                          [No, Yes, nan]\n",
      "Blood cell count (mcL)                              [4.760603086, 4.91066906, 4.893297428, 4.70528...\n",
      "Patient First Name                                  [Richard, Mike, Kimberly, Jeffery, Johanna, Ma...\n",
      "Family Name                                         [nan, Hoelscher, Stutzman, Bryant, Camacho, Sa...\n",
      "Father's name                                       [Larre, Brycen, Nashon, Aayaan, Suave, Colesto...\n",
      "Mother's age                                        [nan, 41.0, 21.0, 32.0, 40.0, 45.0, 44.0, 50.0...\n",
      "Father's age                                        [nan, 23.0, 22.0, 63.0, 44.0, 42.0, 56.0, 20.0...\n",
      "Institute Name                                      [Boston Specialty & Rehabilitation Hospital, S...\n",
      "Location of Institute                               [55 FRUIT ST\\nCENTRAL, MA 02114\\n(42.362474857...\n",
      "Status                                                                         [Alive, Deceased, nan]\n",
      "Respiratory Rate (breaths/min)                                       [Normal (30-60), Tachypnea, nan]\n",
      "Heart Rate (rates/min                                                      [Normal, Tachycardia, nan]\n",
      "Test 1                                                                                     [0.0, nan]\n",
      "Test 2                                                                                     [nan, 0.0]\n",
      "Test 3                                                                                     [nan, 0.0]\n",
      "Test 4                                                                                     [1.0, nan]\n",
      "Test 5                                                                                     [0.0, nan]\n",
      "Parental consent                                                                           [Yes, nan]\n",
      "Follow-up                                                                            [High, Low, nan]\n",
      "Gender                                                                 [nan, Male, Female, Ambiguous]\n",
      "Birth asphyxia                                               [nan, No, No record, Not available, Yes]\n",
      "Autopsy shows birth defect (if applicable)                       [Not applicable, None, No, Yes, nan]\n",
      "Place of birth                                                                 [Institute, nan, Home]\n",
      "Folic acid details (peri-conceptional)                                                 [No, Yes, nan]\n",
      "H/O serious maternal illness                                                           [nan, Yes, No]\n",
      "H/O radiation exposure (x-ray)                                      [No, Not applicable, Yes, -, nan]\n",
      "H/O substance abuse                                                 [No, Not applicable, nan, -, Yes]\n",
      "Assisted conception IVF/ART                                                            [No, Yes, nan]\n",
      "History of anomalies in previous pregnancies                                           [Yes, No, nan]\n",
      "No. of previous abortion                                               [nan, 4.0, 1.0, 0.0, 3.0, 2.0]\n",
      "Birth defects                                                               [nan, Multiple, Singular]\n",
      "White Blood cell count (thousand per microliter)    [9.857562482, 5.522559926, nan, 7.919320981, 4...\n",
      "Blood test result                                   [nan, normal, inconclusive, slightly abnormal,...\n",
      "Symptom 1                                                                             [1.0, 0.0, nan]\n",
      "Symptom 2                                                                             [1.0, nan, 0.0]\n",
      "Symptom 3                                                                             [1.0, 0.0, nan]\n",
      "Symptom 4                                                                             [1.0, 0.0, nan]\n",
      "Symptom 5                                                                             [1.0, 0.0, nan]\n",
      "Genetic Disorder                                    [Mitochondrial genetic inheritance disorders, ...\n",
      "Disorder Subclass                                   [Leber's hereditary optic neuropathy, Cystic f...\n",
      "dtype: object\n"
     ]
    }
   ],
   "source": [
    "print(data.apply(lambda col: col.unique()))"
   ]
  },
  {
   "cell_type": "code",
   "execution_count": null,
   "id": "5334a6cf",
   "metadata": {},
   "outputs": [],
   "source": [
    "data.columns = data.columns.str.replace('\\'','')\n",
    "data.drop(columns=['Patient Id', 'Patient First Name', 'Family Name', 'Fathers name',\n",
    "        'Institute Name', 'Location of Institute', 'Parental consent',\n",
    "        'Place of birth', 'Test 1', 'Test 2', 'Test 3', 'Test 4', 'Test 5'], axis=1, inplace=True)"
   ]
  },
  {
   "cell_type": "code",
   "execution_count": null,
   "id": "indirect-reputation",
   "metadata": {},
   "outputs": [],
   "source": [
    "print(\"Dataset size: \", data.shape)\n",
    "print('\\n', '**'* 50, '\\n')\n",
    "data.info()\n",
    "print('\\n', '**'* 50, '\\n')\n",
    "data.describe(include = 'all')"
   ]
  },
  {
   "cell_type": "code",
   "execution_count": null,
   "id": "adult-delaware",
   "metadata": {},
   "outputs": [],
   "source": [
    "data.isnull().sum()"
   ]
  },
  {
   "cell_type": "code",
   "execution_count": null,
   "id": "7acfaffb",
   "metadata": {},
   "outputs": [],
   "source": [
    "# Removing those from genetic disorder which are null\n",
    "data['Genetic Disorder'].replace('', np.nan, inplace=True)\n",
    "data.dropna(subset=['Genetic Disorder'], inplace=True)\n",
    "data.isnull().sum()"
   ]
  },
  {
   "cell_type": "code",
   "execution_count": null,
   "id": "a03ee336",
   "metadata": {},
   "outputs": [],
   "source": [
    "data = data.rename(columns={\"Genes in mother's side\":'defective_mother',\n",
    "                    'Inherited from father':'defective_father',\n",
    "                    'Maternal gene':'maternal_gene','Paternal gene':'paternal_gene',\n",
    "                    'Respiratory Rate (breaths/min)':'respiratory_rate','Heart Rate (rates/min':'heart_rate',\n",
    "                    'Parental consent':'parental_consent','Follow-up':'follow_up','Birth asphyxia':'birth_asphyxia',\n",
    "                    'Autopsy shows birth defect (if applicable)':'birth_defect_autopsy','Place of birth':'birth_place',\n",
    "                    'Folic acid details (peri-conceptional)':'folic_acid_periconceptional',\n",
    "                    'H/O serious maternal illness':'maternal_illness','H/O radiation exposure (x-ray)':'radiation_exposure',\n",
    "                    'H/O substance abuse':'substance_abuse','Assisted conception IVF/ART':'assisted_conception',\n",
    "                    'History of anomalies in previous pregnancies':'previous_pregnancy_anomalies',\n",
    "                    'Birth defects':'birth_defects','Blood test result':'blood_test_result','Genetic Disorder':'genetic_disorder',\n",
    "                    'Disorder Subclass':'disorder_subclass','Patient Age':'patient_age','Blood cell count (mcL)':'blood_cell_count',\n",
    "                    \"Mother's age\":'mother_age',\"Father's age\":'father_age','No. of previous abortion':'num_previous_abortion',\n",
    "                    'White Blood cell count (thousand per microliter)':'WBC_count'})"
   ]
  },
  {
   "cell_type": "code",
   "execution_count": null,
   "id": "generic-milton",
   "metadata": {},
   "outputs": [],
   "source": [
    "# Data cleaning from predict_genetic_disorder notebook in Kaggle\n",
    "data=data.replace('-99',np.nan)\n",
    "data['radiation_exposure']=data['radiation_exposure'].replace('-','others')\n",
    "data['substance_abuse']=data['substance_abuse'].replace('-','others')\n",
    "data['radiation_exposure']=data['radiation_exposure'].replace('-','others')\n",
    "data['substance_abuse']=data['substance_abuse'].replace('-','others')\n",
    "data['WBC_count']=data['WBC_count'].mask(data['WBC_count']<0,np.nan)\n",
    "data['num_previous_abortion']=data['num_previous_abortion'].mask(data['num_previous_abortion']<0,np.nan)"
   ]
  },
  {
   "cell_type": "code",
   "execution_count": null,
   "id": "afd8b09c",
   "metadata": {},
   "outputs": [],
   "source": [
    "data.head()"
   ]
  },
  {
   "cell_type": "code",
   "execution_count": null,
   "id": "c2984c08",
   "metadata": {},
   "outputs": [],
   "source": [
    "# Missing value imputation from predict_genetic_disorder notebook in Kaggle\n",
    "from sklearn.impute import SimpleImputer\n",
    "imp_mode=SimpleImputer(strategy='most_frequent')\n",
    "imp_mode_num=SimpleImputer(strategy='most_frequent')\n",
    "imp_median=SimpleImputer(strategy='median')\n",
    "\n",
    "pd.options.mode.chained_assignment = None\n",
    "\n",
    "for i in data.columns:\n",
    "    if (data[i].dtype.name!='object')&(data[i].nunique()<=3):\n",
    "        imp_mode_num.fit(np.array(data[i]).reshape(-1,1))\n",
    "        data[i]=imp_mode_num.transform(np.array(data[i]).reshape(-1,1))\n",
    "\n",
    "    elif (data[i].dtype.name!='object')&(data[i].nunique()>3):\n",
    "        imp_median.fit(np.array(data[i]).reshape(-1,1))\n",
    "        data[i]=imp_median.transform(np.array(data[i]).reshape(-1,1))\n",
    "    else:\n",
    "        imp_mode.fit(np.array(data[i]).reshape(-1,1))\n",
    "        data[i]=imp_mode.transform(np.array(data[i]).reshape(-1,1))"
   ]
  },
  {
   "cell_type": "code",
   "execution_count": null,
   "id": "39ab74c7",
   "metadata": {},
   "outputs": [],
   "source": [
    "data.isnull().sum()"
   ]
  },
  {
   "cell_type": "code",
   "execution_count": null,
   "id": "5645afd9",
   "metadata": {},
   "outputs": [],
   "source": [
    "data.shape"
   ]
  },
  {
   "cell_type": "code",
   "execution_count": null,
   "id": "polish-september",
   "metadata": {},
   "outputs": [],
   "source": [
    "print('Número de muestras por clase:')\n",
    "print(data[\"genetic_disorder\"].value_counts())"
   ]
  },
  {
   "cell_type": "code",
   "execution_count": null,
   "id": "actual-equity",
   "metadata": {},
   "outputs": [],
   "source": [
    "import seaborn as sns # buscar manera \n",
    "sns.countplot(data=data, x='genetic_disorder')"
   ]
  },
  {
   "cell_type": "code",
   "execution_count": null,
   "id": "conceptual-treatment",
   "metadata": {},
   "outputs": [],
   "source": [
    "#for x in data.columns[2:len(data.columns)]:# que es esto, diferentes formas de valoración\n",
    " #   sns.displot(data=data, x=x, col='Genetic Disorder', kde=True, bins=10) #kde linea de valoracion"
   ]
  },
  {
   "cell_type": "code",
   "execution_count": null,
   "id": "complete-forum",
   "metadata": {},
   "outputs": [],
   "source": [
    "# see what we've got\n",
    "print(data.columns)"
   ]
  },
  {
   "cell_type": "code",
   "execution_count": null,
   "id": "3f145911",
   "metadata": {},
   "outputs": [],
   "source": [
    "print(data.apply(lambda col: col.unique()))"
   ]
  },
  {
   "cell_type": "code",
   "execution_count": null,
   "id": "ca8613a4",
   "metadata": {},
   "outputs": [],
   "source": [
    "# now lets see a lil header and change Yes and No values to binary\n",
    "data.head()\n",
    "data.columns = data.columns.str.replace('\\'','')\n",
    "data = data.replace(['No', 'Yes'], [0, 1])\n",
    "data.head()"
   ]
  },
  {
   "cell_type": "code",
   "execution_count": null,
   "id": "fbbcd529",
   "metadata": {},
   "outputs": [],
   "source": [
    "print(data.apply(lambda col: col.unique()))"
   ]
  },
  {
   "cell_type": "code",
   "execution_count": null,
   "id": "70cb1ef8",
   "metadata": {},
   "outputs": [],
   "source": [
    "# now lets check what we have left\n",
    "# and lets change columns status, follow-up and birth defects.\n",
    "def replaceduplets(column, value1, value2, to1, to2):\n",
    "        data[column] = data[column].replace([value1, value2], [to1, to2])\n",
    "\n",
    "replaceduplets('Status', 'Alive', 'Deceased', 1, 0)\n",
    "replaceduplets('heart_rate', 'Tachycardia', 'Normal', 0, 1)\n",
    "replaceduplets('follow_up', 'Low', 'High', 0, 1)\n",
    "replaceduplets('birth_defects', 'Multiple', 'Singular', 0, 1)\n",
    "replaceduplets('respiratory_rate', 'Tachypnea', 'Normal (30-60)', 0, 1)\n",
    "\n",
    "print(data.apply(lambda col: col.unique()))"
   ]
  },
  {
   "cell_type": "code",
   "execution_count": null,
   "id": "6dca504c",
   "metadata": {},
   "outputs": [],
   "source": [
    "# And now same stuff for triplets\n",
    "def replacetriplets(column, value1, value2, value3, to1, to2, to3):\n",
    "        data[column] = data[column].replace([value1, value2, value3], [to1, to2, to3])\n",
    "        \n",
    "replacetriplets('Gender', 'Female', 'Ambiguous', 'Male', 0, 1, 2)\n",
    "replacetriplets('genetic_disorder', 'Mitochondrial genetic inheritance disorders',\n",
    "               'Single-gene inheritance diseases', 'Multifactorial genetic inheritance disorders', 1, 1, 0)\n",
    "print(data.apply(lambda col: col.unique()))"
   ]
  },
  {
   "cell_type": "code",
   "execution_count": null,
   "id": "3071f3a2",
   "metadata": {},
   "outputs": [],
   "source": [
    "# Last but not least cuadruplets!\n",
    "def replacecuadruplets(column, value1, value2, value3, value4, to1, to2, to3, to4):\n",
    "        data[column] = data[column].replace([value1, value2, value3, value4],\n",
    "                        [to1, to2, to3, to4])\n",
    "\n",
    "replacecuadruplets('blood_test_result', 'normal', 'slightly abnormal', 'abnormal',\n",
    "                   'inconclusive', 3, 2, 1, 0)\n",
    "replacecuadruplets('substance_abuse', 0, 1, 'Not applicable', 'others', 0, 1, 2, 3)\n",
    "replacecuadruplets('radiation_exposure', 0, 1, 'Not applicable', 'others', 0, 1, 2, 3)\n",
    "replacecuadruplets('birth_defect_autopsy', 0, 1, 'Not applicable', 'None', 0, 1, 2, 3)\n",
    "replacecuadruplets('birth_asphyxia', 0, 1, 'Not available', 'No record', 0, 1, 2, 3)\n",
    "print(data.apply(lambda col: col.unique()))"
   ]
  },
  {
   "cell_type": "code",
   "execution_count": null,
   "id": "a38d2af1",
   "metadata": {},
   "outputs": [],
   "source": [
    "# Now converting every disorder subclass to numeric\n",
    "data['disorder_subclass'] = data['disorder_subclass'].astype('category')\n",
    "data['disorder_subclass'] = data['disorder_subclass'].cat.codes"
   ]
  },
  {
   "cell_type": "code",
   "execution_count": null,
   "id": "fe3c50eb",
   "metadata": {
    "scrolled": true
   },
   "outputs": [],
   "source": [
    "for x in data.columns[2:len(data.columns)]:\n",
    "    sns.displot(data=data, x=x, col='genetic_disorder', kde=True, bins=10)"
   ]
  },
  {
   "cell_type": "markdown",
   "id": "b9fc7043",
   "metadata": {},
   "source": [
    "# División en train y test¶\n",
    "En primer lugar, vamos a separar el conjunto de datos original que se encuentra en data en: X, un dataframe con las variables predictoras, e Y, un dataframe con la variable objetivo (la columna diagnosis). A la hora de crear X, también eliminamos la variable id puesto que no debe utilizarse para clasificación."
   ]
  },
  {
   "cell_type": "code",
   "execution_count": null,
   "id": "368efa8e",
   "metadata": {},
   "outputs": [],
   "source": [
    "print('Tamaño del dataset (muestras x variables):', data.shape) # hacer idea de como va la vaína pt 2\n",
    "\n",
    "X = data.iloc[:,:-2]\n",
    "Y = pd.DataFrame(data['genetic_disorder'])\n",
    "Y2 = pd.DataFrame(data['disorder_subclass'])\n",
    "\n",
    "X.head()\n",
    "Y.head()\n",
    "Y2.head()"
   ]
  },
  {
   "cell_type": "code",
   "execution_count": null,
   "id": "b6e423c9",
   "metadata": {},
   "outputs": [],
   "source": [
    "# for trainset 1\n",
    "from sklearn.model_selection import train_test_split # mirar\n",
    "\n",
    "random_state = 1998 # fijo semilla para reproducibilidad\n",
    "\n",
    "X_train, X_test, Y_train, Y_test = train_test_split(\n",
    "    X, Y,\n",
    "    test_size=0.3, # 30% para test\n",
    "    stratify=Y, # estratificar para respetar distribución e integridad\n",
    "    random_state=random_state # dar semilla\n",
    ")"
   ]
  },
  {
   "cell_type": "code",
   "execution_count": null,
   "id": "1476c3d5",
   "metadata": {},
   "outputs": [],
   "source": [
    "# for trainset 2 (predicción de subtipos)\n",
    "from sklearn.model_selection import train_test_split # mirar\n",
    "\n",
    "random_state = 1998 # fijo semilla para reproducibilidad\n",
    "\n",
    "X_train, X_test, Y2_train, Y2_test = train_test_split(\n",
    "    X, Y2,\n",
    "    test_size=0.3, # 30% para test\n",
    "    stratify=Y2, # estratificar para respetar distribución e integridad\n",
    "    random_state=random_state # dar semilla\n",
    ")"
   ]
  },
  {
   "cell_type": "code",
   "execution_count": null,
   "id": "673fb0d1",
   "metadata": {},
   "outputs": [],
   "source": [
    "X_train.info()\n",
    "X_train.describe(include = 'all')\n",
    "X_test.info()\n",
    "\n",
    "print('Número de muestras por clase:')\n",
    "print(Y_train['genetic_disorder'].value_counts())\n",
    "\n",
    "print('Número de muestras por clase:')\n",
    "print(Y_test['genetic_disorder'].value_counts())"
   ]
  },
  {
   "cell_type": "code",
   "execution_count": null,
   "id": "b21844c9",
   "metadata": {
    "scrolled": true
   },
   "outputs": [],
   "source": [
    "data.describe()"
   ]
  },
  {
   "cell_type": "markdown",
   "id": "534b3955",
   "metadata": {},
   "source": [
    "# KNN "
   ]
  },
  {
   "cell_type": "code",
   "execution_count": null,
   "id": "4a2f0d09",
   "metadata": {},
   "outputs": [],
   "source": [
    "# Sin escalado KNN\n",
    "from sklearn.neighbors import KNeighborsClassifier\n",
    "from sklearn import metrics # metricas de uso\n",
    "\n",
    "knn = KNeighborsClassifier()\n",
    "# Use  Y_train.values.ravel() to avoid a warning\n",
    "knn.fit(X_train, Y_train.values.ravel())"
   ]
  },
  {
   "cell_type": "code",
   "execution_count": null,
   "id": "16553242",
   "metadata": {},
   "outputs": [],
   "source": [
    "knn_prediction = knn.predict(X_test)\n",
    "print('kNN predictions on the test set:', knn_prediction)\n",
    "print('kNN accuracy = {:0.3f}'.format(metrics.accuracy_score(Y_test, knn_prediction))) # predicciones v muestras\n",
    "# {} da params para formatabs"
   ]
  },
  {
   "cell_type": "code",
   "execution_count": null,
   "id": "de4b6f52",
   "metadata": {},
   "outputs": [],
   "source": [
    "knn = KNeighborsClassifier(n_neighbors = 5)\n",
    "\n",
    "knn.fit(X_train, Y_train.values.ravel())\n",
    "\n",
    "knn_prediction = knn.predict(X_test)\n",
    "print('kNN accuracy = {:0.3f}'.format(metrics.accuracy_score(Y_test, knn_prediction)))\n",
    "print('kNN predictions on the test set:', knn_prediction)"
   ]
  },
  {
   "cell_type": "code",
   "execution_count": null,
   "id": "da51ce6e",
   "metadata": {},
   "outputs": [],
   "source": [
    "knn = KNeighborsClassifier(n_neighbors = 1000, weights = 'distance')\n",
    "\n",
    "knn.fit(X_train, Y_train.values.ravel())\n",
    "\n",
    "knn_prediction = knn.predict(X_test)\n",
    "print('kNN accuracy = {:0.3f}'.format(metrics.accuracy_score(Y_test, knn_prediction)))"
   ]
  },
  {
   "cell_type": "code",
   "execution_count": null,
   "id": "2b86e043",
   "metadata": {},
   "outputs": [],
   "source": [
    "# Con escalado KNN\n",
    "from sklearn.preprocessing import StandardScaler\n",
    "scaler = StandardScaler()\n",
    "\n",
    "X_train_scaled = pd.DataFrame(scaler.fit_transform(X_train))\n",
    "X_test_scaled = scaler.transform(X_test)\n",
    "\n",
    "display(X_train_scaled.describe())"
   ]
  },
  {
   "cell_type": "code",
   "execution_count": null,
   "id": "45d6aa9c",
   "metadata": {},
   "outputs": [],
   "source": [
    "knn_scaled = KNeighborsClassifier()\n",
    "knn_scaled.fit(X_train_scaled, Y_train.values.ravel())\n",
    "\n",
    "knn_prediction_scaled = knn_scaled.predict(X_test_scaled)\n",
    "print('kNN accuracy (with scaled data) = {:0.3f}'.format(metrics.accuracy_score(Y_test, knn_prediction_scaled)))"
   ]
  },
  {
   "cell_type": "markdown",
   "id": "23d3264d",
   "metadata": {},
   "source": [
    "# Decision Tree\n",
    "Ahora vamos a entrenar y evaluar un árbol de decisión, disponible en sklearn en DecisionTreeClassifier (https://scikit-learn.org/0.24/modules/generated/sklearn.tree.DecisionTreeClassifier.html). Utilizamos random_state para obtener siempre el mismo resultado. "
   ]
  },
  {
   "cell_type": "code",
   "execution_count": null,
   "id": "13469082",
   "metadata": {},
   "outputs": [],
   "source": [
    "from sklearn.tree import DecisionTreeClassifier\n",
    "\n",
    "dt = DecisionTreeClassifier(random_state = random_state)\n",
    "dt.fit(X_train, Y_train)\n",
    "\n",
    "dt_prediction = dt.predict(X_test)\n",
    "print('Decision Tree accuracy = {:0.3f}'.format(metrics.accuracy_score(Y_test, dt_prediction)))"
   ]
  },
  {
   "cell_type": "code",
   "execution_count": null,
   "id": "11618b49",
   "metadata": {},
   "outputs": [],
   "source": [
    "from sklearn import tree\n",
    "\n",
    "text_representation = tree.export_text(dt, feature_names = data.columns.drop(['genetic_disorder', 'disorder_subclass']).tolist())\n",
    "print(text_representation)"
   ]
  },
  {
   "cell_type": "code",
   "execution_count": null,
   "id": "bdfa0300",
   "metadata": {},
   "outputs": [],
   "source": [
    "import matplotlib.pyplot as plt # el gini (homgeneidad, el primero es el de los datos q entran)\n",
    "\n",
    "fig = plt.figure(figsize=(25,20))\n",
    "feature_names = data.columns.drop(['genetic_disorder', 'disorder_subclass']).tolist()\n",
    "_ = tree.plot_tree(dt, feature_names = feature_names, class_names = [\"P\", \"M\"], filled = True)"
   ]
  },
  {
   "cell_type": "code",
   "execution_count": null,
   "id": "ac90c989",
   "metadata": {},
   "outputs": [],
   "source": [
    "dt_prediction_train = dt.predict(X_train)\n",
    "print('Decision Tree accuracy (train) = ', metrics.accuracy_score(Y_train, dt_prediction_train))"
   ]
  },
  {
   "cell_type": "code",
   "execution_count": null,
   "id": "fb7c4c03",
   "metadata": {},
   "outputs": [],
   "source": [
    "dt = DecisionTreeClassifier(random_state = random_state, min_samples_leaf = 20)\n",
    "dt.fit(X_train, Y_train)\n",
    "\n",
    "dt_prediction = dt.predict(X_test)\n",
    "print('Decision Tree accuracy = {:0.3f}'.format(metrics.accuracy_score(Y_test, dt_prediction)))\n",
    "\n",
    "dt_prediction_train = dt.predict(X_train)\n",
    "print('Decision Tree accuracy = {:0.3f}'.format(metrics.accuracy_score(Y_train, dt_prediction_train)))"
   ]
  },
  {
   "cell_type": "code",
   "execution_count": null,
   "id": "2c68edbc",
   "metadata": {},
   "outputs": [],
   "source": [
    "text_representation = tree.export_text(dt, feature_names = data.columns.drop(['genetic_disorder', 'disorder_subclass']).tolist())\n",
    "print(text_representation)\n",
    "\n",
    "fig = plt.figure(figsize=(25,20))\n",
    "feature_names = data.columns.drop(['genetic_disorder', 'disorder_subclass']).tolist()\n",
    "_ = tree.plot_tree(dt, feature_names = feature_names, class_names = [\"P\", \"M\"], filled = True)"
   ]
  },
  {
   "cell_type": "code",
   "execution_count": null,
   "id": "08d26cd1",
   "metadata": {},
   "outputs": [],
   "source": [
    "dt_prediction_probabilities = dt.predict_proba(X_test)\n",
    "\n",
    "# print(dt_prediction_probabilities)\n",
    "\n",
    "print('Classes in the decision tree model: ', dt.classes_)\n",
    "print('Predictions for class M:\\n', dt_prediction_probabilities[:,1])\n",
    "print('Predictions for class B:\\n', dt_prediction_probabilities[:,1])"
   ]
  },
  {
   "cell_type": "markdown",
   "id": "8deb6877",
   "metadata": {},
   "source": [
    "# La matriz de confusión\n",
    "Comenzamos construyendo la matriz de confusión tal y como se muestra en la imagen anterior. Para hacer el cálculo, consideramos que los positivos son las muestras de la clase que nos interesa (Malignant) y los negativos las muestras de la otra clase (Benignant).\n",
    "\n",
    "Para calcular las celdas de la matriz (TP, TN, FP y FN) tenemos que comparar la clasificación real (disponible en Y_test) con las predicciones del clasificador (por ejemplo dt_prediction en el ejemplo anterior). Repetimos aquí el ejemplo para mostrar los dos arrays y calcular la tasa de aciertos (fíjate el el efecto del parámetro normalize):"
   ]
  },
  {
   "cell_type": "code",
   "execution_count": null,
   "id": "ff1e8edd",
   "metadata": {},
   "outputs": [],
   "source": [
    "dt = DecisionTreeClassifier(random_state = random_state, min_samples_leaf = 20)\n",
    "dt.fit(X_train, Y_train)\n",
    "dt_prediction_train = dt.predict(X_test)\n",
    "\n",
    "print('Clasificación real:\\n', np.asarray(Y_test['genetic_disorder']))\n",
    "print('\\nPredicciones:\\n', dt_prediction_train)\n",
    "print('\\nDecision Tree accuracy = {} ({:.03f})'.format(\n",
    "    metrics.accuracy_score(Y_test, dt_prediction_train, normalize = False),\n",
    "    metrics.accuracy_score(Y_test, dt_prediction_train, normalize = True)\n",
    "))"
   ]
  },
  {
   "cell_type": "code",
   "execution_count": null,
   "id": "4efedae7",
   "metadata": {},
   "outputs": [],
   "source": [
    "pred_y = (dt_prediction == \"M\").astype(int)\n",
    "true_y = np.transpose(np.asarray(Y_test[['Genetic Disorder']]) == \"M\").astype(int).flatten()\n",
    "\n",
    "print('Decision Tree accuracy = ', metrics.accuracy_score(true_y, pred_y))"
   ]
  },
  {
   "cell_type": "code",
   "execution_count": null,
   "id": "97dab852",
   "metadata": {},
   "outputs": [],
   "source": [
    "display(metrics.confusion_matrix(Y_test, dt_prediction))"
   ]
  },
  {
   "cell_type": "code",
   "execution_count": null,
   "id": "d2e78b35",
   "metadata": {},
   "outputs": [],
   "source": [
    "from sklearn import metrics\n",
    "\n",
    "cm_sklearn = metrics.confusion_matrix(Y_test, dt_prediction, labels=[0,1] )\n",
    "\n",
    "\n",
    "display(cm_sklearn)"
   ]
  },
  {
   "cell_type": "code",
   "execution_count": null,
   "id": "614323a5",
   "metadata": {},
   "outputs": [],
   "source": [
    "## cuando tengo una matriz de confusion hecha, con la funcion ravel obtengo una tupla.\n",
    "División en train y test#\n",
    "tp, fn, fp, tn = cm_sklearn.ravel()\n",
    "\n",
    "print(\"TP = \", tp)\n",
    "print(\"TN = \", tn)\n",
    "print(\"FP = \", fp)\n",
    "print(\"FN = \", fn)"
   ]
  },
  {
   "cell_type": "markdown",
   "id": "071ee845",
   "metadata": {},
   "source": [
    "# Metrica calidad"
   ]
  },
  {
   "cell_type": "code",
   "execution_count": null,
   "id": "26d5264d",
   "metadata": {},
   "outputs": [],
   "source": [
    "accuracy = (tp + tn) / (tp + fp + fn + tn)\n",
    "\n",
    "display(accuracy)"
   ]
  },
  {
   "cell_type": "code",
   "execution_count": null,
   "id": "c8a11c59",
   "metadata": {},
   "outputs": [],
   "source": [
    "## Ejercicio: calcula las métricas recall (sensitivity), specificity, precision (PPV) y NPV utilizando los valores calculados anteriormente.\n",
    "\n",
    "recall = tp / (tp + fn)\n",
    "print(\"Recall = {:.3f}\".format(recall))\n",
    "\n",
    "specificity = tn / (tn + fp)\n",
    "print(\"Specificity = {:.3f}\".format(specificity))\n",
    "\n",
    "precision = tp / (tp + fp)\n",
    "print(\"Precision (PPV) = {:.3f}\".format(precision))\n",
    "\n",
    "npv = tn / (tn + fn)\n",
    "print(\"NPV = {:.3f}\".format(npv))"
   ]
  },
  {
   "cell_type": "code",
   "execution_count": null,
   "id": "8a2bfaf3",
   "metadata": {},
   "outputs": [],
   "source": [
    "recall = tp / (tp + fn)\n",
    "print(\"Recall = {:.3f}\".format(recall))\n",
    "\n",
    "specificity = tn / (tn + fp)\n",
    "print(\"Specificity = {:.3f}\".format(specificity))\n",
    "\n",
    "precision = tp / (tp + fp)\n",
    "print(\"Precision (PPV) = {:.3f}\".format(precision))\n",
    "\n",
    "npv = tn / (tn + fn)\n",
    "print(\"NPV = {:.3f}\".format(npv))\n",
    "\n",
    "print(metrics.classification_report(Y_test, dt_prediction, digits = 3))\n",
    "\n",
    "## sensibilidad y recall hacen referencia a la clase positiva(a lo que queremos identificar)\n",
    "## cuando demos f1 de la clase positiva. tener en cuenta el balance entre sesibilidad y ppv.\n"
   ]
  },
  {
   "cell_type": "markdown",
   "id": "a7a125ba",
   "metadata": {},
   "source": [
    "# Cross validation score"
   ]
  },
  {
   "cell_type": "code",
   "execution_count": null,
   "id": "70a5220c",
   "metadata": {},
   "outputs": [],
   "source": [
    "from sklearn.model_selection import cross_val_score\n",
    "\n",
    "dt_cv = DecisionTreeClassifier(random_state = random_state, min_samples_leaf = 20)\n",
    "\n",
    "accuracies = cross_val_score(dt_cv, X, Y, cv=5, scoring=\"accuracy\")\n",
    "accuracies"
   ]
  },
  {
   "cell_type": "code",
   "execution_count": null,
   "id": "4fedbcaf",
   "metadata": {},
   "outputs": [],
   "source": [
    "precisions = cross_val_score(dt_cv, X, Y, cv=5, scoring=\"precision\")\n",
    "precisions"
   ]
  },
  {
   "cell_type": "code",
   "execution_count": null,
   "id": "9a6e2b72",
   "metadata": {},
   "outputs": [],
   "source": [
    "from sklearn import preprocessing\n",
    "\n",
    "lb = preprocessing.LabelBinarizer()\n",
    "\n",
    "lb.fit([\"M\", \"P\"])\n",
    "\n",
    "display(lb.classes_)\n"
   ]
  },
  {
   "cell_type": "code",
   "execution_count": null,
   "id": "8e2debcd",
   "metadata": {},
   "outputs": [],
   "source": [
    "Y_binary = lb.transform(Y)\n",
    "\n",
    "precisions = cross_val_score(dt_cv, X, Y_binary, cv=5, scoring=\"precision\")\n",
    "precisions"
   ]
  },
  {
   "cell_type": "markdown",
   "id": "f4e35fc8",
   "metadata": {},
   "source": [
    "# Cross_value"
   ]
  },
  {
   "cell_type": "code",
   "execution_count": null,
   "id": "b1ae839f",
   "metadata": {},
   "outputs": [],
   "source": [
    "from sklearn.model_selection import cross_validate\n",
    "\n",
    "scoring = ['accuracy', 'recall', 'precision']\n",
    "\n",
    "dt_cv = DecisionTreeClassifier(random_state = random_state, min_samples_leaf = 20)\n",
    "cross_validate_scores = cross_validate(dt_cv, X, Y_binary, cv=5, scoring=scoring)\n",
    "\n",
    "display(sorted(cross_validate_scores.keys()))\n",
    "\n",
    "print(\"Accuracy: \", cross_validate_scores['test_accuracy'])\n",
    "print(\"Precision: \", cross_validate_scores['test_precision'])\n",
    "print(\"Recall: \", cross_validate_scores['test_recall'])"
   ]
  },
  {
   "cell_type": "markdown",
   "id": "13a98e53",
   "metadata": {},
   "source": [
    "# Escalado y validacion cruzada"
   ]
  },
  {
   "cell_type": "code",
   "execution_count": null,
   "id": "a82c06c3",
   "metadata": {},
   "outputs": [],
   "source": [
    "from sklearn.pipeline import make_pipeline\n",
    "\n",
    "pipeline = make_pipeline(\n",
    "    preprocessing.StandardScaler(),\n",
    "    DecisionTreeClassifier(random_state = random_state, min_samples_leaf = 20)\n",
    ")\n",
    "\n",
    "cross_validate_scores = cross_validate(pipeline, X, Y_binary, cv=5, scoring=scoring)\n",
    "\n",
    "display(sorted(cross_validate_scores.keys()))\n",
    "\n",
    "print(\"Accuracy: \", cross_validate_scores['test_accuracy'])\n",
    "print(\"Precision: \", cross_validate_scores['test_precision'])\n",
    "print(\"Recall: \", cross_validate_scores['test_recall'])"
   ]
  },
  {
   "cell_type": "markdown",
   "id": "8077d496",
   "metadata": {},
   "source": [
    "# Curvas Rock"
   ]
  },
  {
   "cell_type": "code",
   "execution_count": null,
   "id": "49588045",
   "metadata": {},
   "outputs": [],
   "source": [
    "\n",
    "# Valores Y (1/0) para reproducir la escala arriba-abajo (izquierda-derecha)\n",
    "Y_test_biomarker = [1, 1, 1, 1,    1, 0, 1, 0,    0, 0, 0, 0]\n",
    "target_names = ['negative', 'positive']\n",
    "\n",
    "# Umbral 1\n",
    "pred_1 = [ ]\n",
    "\n",
    "# Umbral 2\n",
    "pred_2 = []\n",
    "\n",
    "# Umbral 3\n",
    "pred_3 = []"
   ]
  },
  {
   "cell_type": "code",
   "execution_count": null,
   "id": "1ce8feb6",
   "metadata": {},
   "outputs": [],
   "source": [
    "from sklearn.metrics import RocCurveDisplay\n",
    "\n",
    "roc_curve = metrics.plot_roc_curve(dt, X_test, Y_test)"
   ]
  },
  {
   "cell_type": "markdown",
   "id": "0150bf0f",
   "metadata": {},
   "source": [
    "# Hiperparametros"
   ]
  },
  {
   "cell_type": "code",
   "execution_count": null,
   "id": "de40cc68",
   "metadata": {},
   "outputs": [],
   "source": [
    "from sklearn.tree import DecisionTreeClassifier\n",
    "from sklearn.model_selection import GridSearchCV\n",
    "\n",
    "parameters = {\n",
    "    'criterion': ['gini', 'entropy'],\n",
    "    'min_samples_leaf': [2, 4, 6, 8, 10],\n",
    "    'max_depth': [3, 5, 8, 12, 16]\n",
    "}\n",
    "\n",
    "dt = DecisionTreeClassifier(random_state = random_state)\n",
    "\n",
    "grid_search = GridSearchCV(dt, parameters, scoring = 'accuracy')\n",
    "\n",
    "grid_search.fit(X_train, Y_train)"
   ]
  },
  {
   "cell_type": "code",
   "execution_count": null,
   "id": "d43582c9",
   "metadata": {},
   "outputs": [],
   "source": [
    "print(\"La mejor de combinación de parámetros es:\", grid_search.best_params_)\n",
    "\n",
    "print(\"\\nY su rendimiento es:\", grid_search.best_score_)"
   ]
  },
  {
   "cell_type": "code",
   "execution_count": null,
   "id": "9c168dda",
   "metadata": {},
   "outputs": [],
   "source": [
    "dt_prediction_gscv = grid_search.predict(X_test)\n",
    "print('Best Decision Tree accuracy = ', metrics.accuracy_score(dt_prediction_gscv, Y_test))"
   ]
  },
  {
   "cell_type": "markdown",
   "id": "3f62ac7f",
   "metadata": {},
   "source": [
    "# Curvas de aprendizaje"
   ]
  },
  {
   "cell_type": "code",
   "execution_count": null,
   "id": "6f8c82db",
   "metadata": {},
   "outputs": [],
   "source": [
    "from sklearn.model_selection import learning_curve\n",
    "from sklearn.tree import DecisionTreeClassifier\n",
    "\n",
    "estimator = DecisionTreeClassifier(random_state = random_state, min_samples_leaf = 20)\n",
    "\n",
    "train_sizes = np.linspace(0.2, 1.0, 15)\n",
    "print('Learning curves on this training size proportions of the available data: ', train_sizes)\n",
    "\n",
    "train_sizes, train_scores, test_scores = learning_curve(\n",
    "    estimator = estimator, X = X_train, y = Y_train, cv = 10, train_sizes = train_sizes, n_jobs=1\n",
    ")\n",
    "\n",
    "def plot_learning_curve(train_sizes, train_scores, test_scores):\n",
    "    import matplotlib.pyplot as plt\n",
    "\n",
    "    # Calculate training and test mean and std\n",
    "    train_scores = 1-train_scores\n",
    "    test_scores = 1-test_scores\n",
    "\n",
    "    train_mean = np.mean(train_scores, axis=1)\n",
    "    train_std = np.std(train_scores, axis=1)\n",
    "    test_mean = np.mean(test_scores, axis=1)\n",
    "    test_std = np.std(test_scores, axis=1)\n",
    "    \n",
    "    # Plot the learning curve\n",
    "\n",
    "    plt.plot(train_sizes, train_mean, color='green', marker='o', markersize=5, label='Training Error (1-accuracy)')\n",
    "    plt.fill_between(train_sizes, train_mean + train_std, train_mean - train_std, alpha=0.15, color='green')\n",
    "    plt.plot(train_sizes, test_mean, color='blue', marker='+', markersize=5, linestyle='--', label='Validation Error (1-accuracy)')\n",
    "    plt.fill_between(train_sizes, test_mean + test_std, test_mean - test_std, alpha=0.15, color='blue')\n",
    "    plt.title('Learning Curve')\n",
    "    plt.xlabel('Training Data Size')\n",
    "    plt.ylabel('Error (1-accuracy)')\n",
    "    plt.grid()\n",
    "    plt.legend(loc='lower right')\n",
    "\n",
    "plot_learning_curve(train_sizes, train_scores, test_scores)"
   ]
  }
 ],
 "metadata": {
  "kernelspec": {
   "display_name": "Python 3 (ipykernel)",
   "language": "python",
   "name": "python3"
  },
  "language_info": {
   "codemirror_mode": {
    "name": "ipython",
    "version": 3
   },
   "file_extension": ".py",
   "mimetype": "text/x-python",
   "name": "python",
   "nbconvert_exporter": "python",
   "pygments_lexer": "ipython3",
   "version": "3.10.6"
  }
 },
 "nbformat": 4,
 "nbformat_minor": 5
}
